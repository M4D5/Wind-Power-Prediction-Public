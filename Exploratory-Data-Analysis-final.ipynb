{
 "cells": [
  {
   "cell_type": "markdown",
   "metadata": {},
   "source": [
    "# Exploratory Data Analysis"
   ]
  },
  {
   "cell_type": "code",
   "execution_count": null,
   "metadata": {},
   "outputs": [],
   "source": [
    "import pandas as pd\n",
    "import torch.optim as optim\n",
    "import matplotlib.pyplot as plt\n",
    "import seaborn as sns\n",
    "import numpy as np\n",
    "import os\n",
    "from sklearn import linear_model\n",
    "from sklearn.preprocessing import MinMaxScaler\n",
    "from windrose import WindroseAxes"
   ]
  },
  {
   "cell_type": "code",
   "execution_count": null,
   "metadata": {},
   "outputs": [],
   "source": [
    "df = pd.read_csv(\"Proj_NWP_Case3.csv\")\n",
    "df2 = pd.read_csv(\"Proj_Measurements_Case3.csv\")\n",
    "df.Date_Time=pd.to_datetime(df.Date_Time)\n",
    "df = df.set_index('Date_Time')\n",
    "df2.Date_Time=pd.to_datetime(df2.Date_Time)\n",
    "df2 = df2.set_index('Date_Time')"
   ]
  },
  {
   "cell_type": "code",
   "execution_count": null,
   "metadata": {},
   "outputs": [],
   "source": [
    "#Merge the two datasets\n",
    "df_merged = df.merge(df2['Park Power [KW]'], how='left', left_index=True, right_index=True)\n",
    "\n",
    "print(df_merged.isnull().sum(axis = 0))\n",
    "\n",
    "#Remove Nan-values\n",
    "df_merged = df_merged.dropna()"
   ]
  },
  {
   "cell_type": "code",
   "execution_count": null,
   "metadata": {},
   "outputs": [],
   "source": [
    "df_merged.info()"
   ]
  },
  {
   "cell_type": "code",
   "execution_count": null,
   "metadata": {},
   "outputs": [],
   "source": [
    "df_merged.shape"
   ]
  },
  {
   "cell_type": "code",
   "execution_count": null,
   "metadata": {},
   "outputs": [],
   "source": [
    "df_merged.describe()"
   ]
  },
  {
   "cell_type": "markdown",
   "metadata": {},
   "source": [
    "### Check for outliers"
   ]
  },
  {
   "cell_type": "code",
   "execution_count": null,
   "metadata": {},
   "outputs": [],
   "source": [
    "l = df_merged.columns.values\n",
    "number_of_columns=18\n",
    "number_of_rows = len(l)-1/number_of_columns\n",
    "plt.figure(figsize=(number_of_columns,5*number_of_rows))\n",
    "for i in range(0,len(l)):\n",
    "    plt.subplot(number_of_rows + 1,number_of_columns,i+1)\n",
    "    sns.set_style('whitegrid')\n",
    "    sns.boxplot(df_merged[l[i]],color='green',orient='vertical')\n",
    "    plt.tight_layout()"
   ]
  },
  {
   "cell_type": "markdown",
   "metadata": {},
   "source": [
    "It looks like there are outliers in 7 of the 18 features. These are speed_10m, speed_50m, Direction_100m, Speed_100m, Direction_150m, Speed_150m and Park Power \\[KW\\]. Will further look into Park Power \\[KW\\], because this is our target variable."
   ]
  },
  {
   "cell_type": "code",
   "execution_count": null,
   "metadata": {},
   "outputs": [],
   "source": [
    "sns.boxplot(data=df_merged['Park Power [KW]'])\n",
    "plt.savefig('boxsplot_PP.png')"
   ]
  },
  {
   "cell_type": "markdown",
   "metadata": {},
   "source": [
    "### Checking the distribution-Skewness"
   ]
  },
  {
   "cell_type": "code",
   "execution_count": null,
   "metadata": {
    "scrolled": false
   },
   "outputs": [],
   "source": [
    "plt.figure(figsize=(5*number_of_columns,5*number_of_rows))\n",
    "for i in range(0,len(l)):\n",
    "    plt.subplot(number_of_rows * 2,4*number_of_columns,i+1)\n",
    "    sns.distplot(df_merged[l[i]],kde=True) "
   ]
  },
  {
   "cell_type": "markdown",
   "metadata": {},
   "source": [
    "### Correlation plot"
   ]
  },
  {
   "cell_type": "code",
   "execution_count": null,
   "metadata": {},
   "outputs": [],
   "source": [
    "corr = df_merged.corr()\n",
    "mask = np.triu(np.ones_like(corr, dtype=bool))\n",
    "# Set up the matplotlib figure\n",
    "f, ax = plt.subplots(figsize=(11, 9))\n",
    "cmap = sns.diverging_palette(230, 20, as_cmap=True)\n",
    "\n",
    "# Draw the heatmap with the mask and correct aspect ratio\n",
    "sns.heatmap(corr, mask=mask, cmap=cmap, vmax=.3, center=0,\n",
    "            square=True, linewidths=.5, cbar_kws={\"shrink\": .5})\n",
    "plt.savefig('Corr_plot.png')"
   ]
  },
  {
   "cell_type": "markdown",
   "metadata": {},
   "source": [
    "Park Power \\[KW\\] have the biggest correlation with the wind speed, but it doesn't look like a problem. The temerature of all heights have a high negative correlation with the air density of all heights."
   ]
  },
  {
   "cell_type": "markdown",
   "metadata": {},
   "source": [
    "### Wind speed"
   ]
  },
  {
   "cell_type": "code",
   "execution_count": null,
   "metadata": {},
   "outputs": [],
   "source": [
    "direction = [\"Direction_10m\",\"Direction_50m\",\"Direction_100m\",\"Direction_150m\"]\n",
    "speed = [\"Speed_10m\",\"Speed_50m\",\"Speed_100m\",\"Speed_150m\"]\n",
    "titles = [\"10m\",\"50m\",\"100m\",\"150m\"]\n",
    "ax = WindroseAxes.from_ax()\n",
    "ax.bar(df_merged[direction[2]], df_merged[speed[2]], normed=True, opening=1)\n",
    "ax.set_legend(units=\"m/s\")\n",
    "ax.set_xticklabels(['E', 'NE', 'N', 'NW',  'W', 'SW', 'S', 'SE'])\n",
    "ax.set_title(\"Windrose for \" + titles[2])\n",
    "plt.savefig('100m_wind.png')"
   ]
  },
  {
   "cell_type": "code",
   "execution_count": null,
   "metadata": {
    "scrolled": false
   },
   "outputs": [],
   "source": [
    "direction = [\"Direction_10m\",\"Direction_50m\",\"Direction_100m\",\"Direction_150m\"]\n",
    "speed = [\"Speed_10m\",\"Speed_50m\",\"Speed_100m\",\"Speed_150m\"]\n",
    "temperature = [\"Temperature_10m\",\"Temperature_50m\",\"Temperature_100m\",\"Temperature_150m\"]\n",
    "density = [\"Air Density_10m\",\"Air Density_50m\",\"Air Density_100m\",\"Air Density_150m\"]\n",
    "titles = [\"10m\",\"50m\",\"100m\",\"150m\"]\n",
    "\n",
    "for i in range(len(speed)):\n",
    "    ax = WindroseAxes.from_ax()\n",
    "    ax.bar(df_merged[direction[i]], df_merged[speed[i]], normed=True, opening=1)\n",
    "    ax.set_legend(units=\"m/s\")\n",
    "    ax.set_xticklabels(['E', 'NE', 'N', 'NW',  'W', 'SW', 'S', 'SE'])\n",
    "    ax.set_title(\"Windrose for \" + titles[i])"
   ]
  },
  {
   "cell_type": "markdown",
   "metadata": {},
   "source": [
    "The wind direction is mostly from the south-west"
   ]
  },
  {
   "cell_type": "markdown",
   "metadata": {},
   "source": [
    "### Seasonality"
   ]
  },
  {
   "cell_type": "code",
   "execution_count": null,
   "metadata": {},
   "outputs": [],
   "source": [
    "df_merged['Month'] = df_merged.index.month\n",
    "ylabels=[\"[m/s]\",\"Degrees\",\"Degree celsius\"]\n",
    "fig, axes = plt.subplots(4, 1, figsize=(11, 10), sharex=True)\n",
    "for name,label, ax in zip(['Speed_10m', 'Direction_10m', 'Temperature_10m',\"Air Density_10m\"],[\"[m/s]\",\"Degree (Angle)\",\"Degree celsius\",\"ρ\"], axes):\n",
    "    sns.boxplot(data=df_merged, x='Month', y=name, ax=ax)\n",
    "    ax.set_ylabel(label)\n",
    "    ax.set_title(name)\n",
    "    if ax != axes[-1]:\n",
    "        ax.set_xlabel('')"
   ]
  },
  {
   "cell_type": "markdown",
   "metadata": {},
   "source": [
    "### Baseline-machine learning (Linear Regression)"
   ]
  },
  {
   "cell_type": "code",
   "execution_count": null,
   "metadata": {},
   "outputs": [],
   "source": [
    "df_merged_model=df_merged.copy()\n",
    "\n",
    "#Data Standardization\n",
    "df_merged_model_mean = df_merged_model.mean(axis=0)\n",
    "df_merged_model_std = df_merged_model.std(axis=0)\n",
    "df_merged_model_sd= (df_merged_model - df_merged_model_mean) / df_merged_model_std\n",
    "\n",
    "#Splitting the data\n",
    "split=int(len(df_merged_model_sd)*7/10)\n",
    "training=df_merged_model_sd[:split]\n",
    "test=df_merged_model_sd[split:]\n",
    "\n",
    "\n",
    "#Making test and train sets\n",
    "x_cols=['Direction_10m', 'Speed_10m', 'Temperature_10m', 'Pressure_seaLevel',\n",
    "       'Air Density_10m', 'Direction_50m', 'Speed_50m', 'Temperature_50m',\n",
    "       'Air Density_50m', 'Direction_100m', 'Speed_100m', 'Temperature_100m',\n",
    "       'Air Density_100m', 'Direction_150m', 'Speed_150m', 'Temperature_150m',\n",
    "       'Air Density_150m']\n",
    "\n",
    "x_train=training[x_cols]\n",
    "x_test=test[x_cols]\n",
    "\n",
    "y_train=training['Park Power [KW]']\n",
    "y_test=test['Park Power [KW]']\n",
    "\n",
    "#Train the model\n",
    "regr=linear_model.LinearRegression(fit_intercept=False)\n",
    "regr.fit(x_train, y_train);\n",
    "print(regr.coef_)\n",
    "\n",
    "#Test the model\n",
    "scorelr=regr.score(x_test, y_test)\n",
    "print(f' The accuracy is {scorelr}')"
   ]
  },
  {
   "cell_type": "markdown",
   "metadata": {},
   "source": [
    "## Feature Engineering"
   ]
  },
  {
   "cell_type": "code",
   "execution_count": null,
   "metadata": {},
   "outputs": [],
   "source": [
    "def cos_sin_time(df):\n",
    "    #Extracting the minute of the hour, hour of day and day of the month\n",
    "    df[\"hour\"] = [x.hour for x in df[\"dt\"]]\n",
    "    df[\"Month\"] = [x.month for x in df[\"dt\"]]\n",
    "    df[\"Year\"] = [x.year for x in df[\"dt\"]]\n",
    "    df[\"timestamp\"] = [x.timestamp() for x in df[\"dt\"]]\n",
    "    \n",
    "    \n",
    "    \n",
    "    ## Creating the cyclical feature \n",
    "    \n",
    "    # day\n",
    "    df[\"day_cos\"] = [np.cos(x * (2 * np.pi / 23)) for x in df[\"hour\"]]\n",
    "    df[\"day_sin\"] = [np.sin(x * (2 * np.pi / 23)) for x in df[\"hour\"]]\n",
    "    \n",
    "    # Seconds in day \n",
    "    s = 24 * 60 * 60\n",
    "    # Seconds in year \n",
    "    year = (365.25) * s\n",
    "    df[\"month_cos\"] = [np.cos(x * (2 * np.pi / year)) for x in df[\"timestamp\"]]\n",
    "    df[\"month_sin\"] = [np.sin(x * (2 * np.pi / year)) for x in df[\"timestamp\"]]\n",
    "    \n",
    "def change_in_direction(df):\n",
    "\n",
    "    # 10 Meter\n",
    "    df['Change_Speed_10'] = df['Speed_10m'].diff()\n",
    "    df['Change_Speed_10'] = df['Change_Speed_10'].fillna(0)\n",
    "    df['Change_direction_10'] = df['Direction_10m'].diff()\n",
    "    df['Change_direction_10'] = df['Change_direction_10'].fillna(0)\n",
    "\n",
    "    # 50 Meter\n",
    "    df['Change_Speed_50'] = df['Speed_50m'].diff()\n",
    "    df['Change_Speed_50'] = df['Change_Speed_50'].fillna(0)\n",
    "    df['Change_direction_50'] = df['Direction_50m'].diff()\n",
    "    df['Change_direction_50'] = df['Change_direction_50'].fillna(0)\n",
    "\n",
    "    # 100 Meter\n",
    "    df['Change_Speed_100'] = df['Speed_100m'].diff()\n",
    "    df['Change_Speed_100'] = df['Change_Speed_100'].fillna(0)\n",
    "    df['Change_direction_100'] = df['Direction_100m'].diff()\n",
    "    df['Change_direction_100'] = df['Change_direction_100'].fillna(0)\n",
    "\n",
    "    # 150 Meter\n",
    "    df['Change_Speed_150'] = df['Speed_150m'].diff()\n",
    "    df['Change_Speed_150'] = df['Change_Speed_150'].fillna(0)\n",
    "    df['Change_direction_150'] = df['Direction_150m'].diff()\n",
    "    df['Change_direction_150'] = df['Change_direction_150'].fillna(0)"
   ]
  },
  {
   "cell_type": "code",
   "execution_count": null,
   "metadata": {},
   "outputs": [],
   "source": [
    "cut_off=df['Park Power [KW]'].quantile(0.9)\n",
    "\n",
    "#Setting the max theoretical power output\n",
    "Capacity = 33*1500\n",
    "df=df.dropna()\n",
    "\n",
    "for i in range(1,len(df)):\n",
    "    if (df['Park Power [KW]'][i] >= Capacity) & (df['Park Power [KW]'][i-1] > cut_off) & (df['Change_Speed_50'][i] > 0.1):\n",
    "        df['Park Power [KW]'][i]=Capacity\n",
    "        \n",
    "df_cleaned=df[(df['Park Power [KW]']<=Capacity) & (df['Park Power [KW]']>0)].dropna()"
   ]
  },
  {
   "cell_type": "markdown",
   "metadata": {},
   "source": [
    "## feature engineering"
   ]
  },
  {
   "cell_type": "code",
   "execution_count": null,
   "metadata": {},
   "outputs": [],
   "source": [
    "# Making wind vectors\n",
    "\n",
    "wd_rad_10 = df_cleaned.pop('Direction_10m')*np.pi / 180\n",
    "wd_rad_50 = df_cleaned.pop('Direction_50m')*np.pi / 180\n",
    "wd_rad_100 = df_cleaned.pop('Direction_100m')*np.pi / 180\n",
    "wd_rad_150 = df_cleaned.pop('Direction_150m')*np.pi / 180\n",
    "\n",
    "ws_10 = df_cleaned.pop('Speed_10m')\n",
    "ws_50 = df_cleaned.pop('Speed_50m')\n",
    "ws_100 = df_cleaned.pop('Speed_100m')\n",
    "ws_150 = df_cleaned.pop('Speed_150m')\n",
    "\n",
    "# Calculate the wind x and y components.\n",
    "df_cleaned['Wx_10'] = ws_10*np.cos(wd_rad_10)\n",
    "df_cleaned['Wy_10'] = ws_10*np.sin(wd_rad_10)\n",
    "df_cleaned['Wx_50'] = ws_50*np.cos(wd_rad_50)\n",
    "df_cleaned['Wy_50'] = ws_50*np.sin(wd_rad_50)\n",
    "df_cleaned['Wx_100'] = ws_100*np.cos(wd_rad_100)\n",
    "df_cleaned['Wy_100'] = ws_100*np.sin(wd_rad_100)\n",
    "df_cleaned['Wx_150'] = ws_150*np.cos(wd_rad_150)\n",
    "df_cleaned['Wy_150'] = ws_150*np.sin(wd_rad_150)"
   ]
  },
  {
   "cell_type": "code",
   "execution_count": null,
   "metadata": {},
   "outputs": [],
   "source": [
    "df_cleaned=df_cleaned.drop([\"dt\",\"timestamp\",\"hour\",\"Month\",\"Year\",\"10m_cos\",\"10m_sin\",\"50m_cos\",\"50m_sin\",\"100m_sin\",\"100m_cos\",\"150m_sin\",\"150m_cos\"],axis=1)"
   ]
  }
 ],
 "metadata": {
  "kernelspec": {
   "display_name": "Python 3",
   "language": "python",
   "name": "python3"
  },
  "language_info": {
   "codemirror_mode": {
    "name": "ipython",
    "version": 3
   },
   "file_extension": ".py",
   "mimetype": "text/x-python",
   "name": "python",
   "nbconvert_exporter": "python",
   "pygments_lexer": "ipython3",
   "version": "3.8.8"
  }
 },
 "nbformat": 4,
 "nbformat_minor": 4
}
